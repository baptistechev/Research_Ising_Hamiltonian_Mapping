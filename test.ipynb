{
 "cells": [
  {
   "cell_type": "code",
   "execution_count": null,
   "id": "9de4c607",
   "metadata": {},
   "outputs": [],
   "source": [
    "#1  2   3   4\n",
    "#5  6   7   8\n",
    "#9  10  11  12"
   ]
  },
  {
   "cell_type": "code",
   "execution_count": 217,
   "id": "b9dc1f39",
   "metadata": {},
   "outputs": [
    {
     "name": "stdout",
     "output_type": "stream",
     "text": [
      "Computed energy: 1.7641441581453867\n"
     ]
    }
   ],
   "source": [
    "import numpy as np\n",
    "import matplotlib.pyplot as plt\n",
    "\n",
    "def compute_energy(couplings, spins):\n",
    "    assert couplings.shape[0] == len(spins), \"Number of spins must match couplings matrix size.\"\n",
    "    energy = 0\n",
    "    num_spins = len(spins)\n",
    "    for i in range(num_spins):\n",
    "        for j in range(i+1,num_spins):\n",
    "            energy += couplings[i, j] * spins[i] * spins[j]\n",
    "    return -energy\n",
    "\n",
    "N=12\n",
    "couplings = np.matrix([[0, np.random.normal(0,1), 0, 0, np.random.normal(0,1), 0, 0, 0, 0, 0, 0, 0],\n",
    "                        [0, 0, np.random.normal(0,1), 0, 0, np.random.normal(0,1), 0, 0, 0, 0, 0, 0],\n",
    "                        [0, 0, 0, np.random.normal(0,1), 0, 0, np.random.normal(0,1), 0, 0, 0, 0, 0],\n",
    "                        [0, 0, 0, 0, 0, 0, 0, np.random.normal(0,1), 0, 0, 0, 0],\n",
    "                        [0, 0, 0, 0, 0, np.random.normal(0,1), 0, 0, np.random.normal(0,1), 0, 0, 0],\n",
    "                        [0, 0, 0, 0, 0, 0, np.random.normal(0,1), 0, 0, np.random.normal(0,1), 0, 0],\n",
    "                        [0, 0, 0, 0, 0, 0, 0, np.random.normal(0,1), 0, 0, np.random.normal(0,1), 0],\n",
    "                        [0, 0, 0, 0, 0, 0, 0, 0, 0, 0, 0, np.random.normal(0,1)],\n",
    "                        [0, 0, 0, 0, 0, 0, 0, 0, 0, np.random.normal(0,1), 0, 0],\n",
    "                        [0, 0, 0, 0, 0, 0, 0, 0, 0, 0, np.random.normal(0,1), 0],\n",
    "                        [0, 0, 0, 0, 0, 0, 0, 0, 0, 0, 0, np.random.normal(0,1)],\n",
    "                        [0, 0, 0, 0, 0, 0, 0, 0, 0, 0, 0 ,0]])\n",
    "\n",
    "spins = np.array([1,1,1,1,1,1,1,1,1,1,1,1])\n",
    "energy = compute_energy(couplings, spins)\n",
    "print(\"Computed energy:\", energy)"
   ]
  },
  {
   "cell_type": "code",
   "execution_count": null,
   "id": "76d2e61b",
   "metadata": {},
   "outputs": [],
   "source": [
    "#1  2   3   4  5\n",
    "#6  7   8   9  10\n",
    "#11 12  13  14 15\n",
    "#16 17  18  19 20"
   ]
  },
  {
   "cell_type": "code",
   "execution_count": 137,
   "id": "36f7305f",
   "metadata": {},
   "outputs": [
    {
     "name": "stdout",
     "output_type": "stream",
     "text": [
      "Computed energy for 4x5 lattice: -0.9297636749939664\n"
     ]
    }
   ],
   "source": [
    "N = 20\n",
    "couplings = np.zeros((N,N))\n",
    "for i in range(N):\n",
    "    if (i+1) % 5 != 0:  # not on the right edge\n",
    "        couplings[i, i+1] = np.random.normal(0,1)\n",
    "    if i < N-5:  # not on the bottom edge\n",
    "        couplings[i, i+5] = np.random.normal(0,1)\n",
    "\n",
    "spins = np.ones(N, dtype=int)\n",
    "energy = compute_energy(couplings, spins)\n",
    "print(\"Computed energy for 4x5 lattice:\", energy)"
   ]
  },
  {
   "cell_type": "code",
   "execution_count": 218,
   "id": "1017236c",
   "metadata": {},
   "outputs": [
    {
     "name": "stdout",
     "output_type": "stream",
     "text": [
      "Best energy: -13.03538245047407\n",
      "Number of optimal configurations: 1\n",
      "Config #1: [ 1 -1  1 -1 -1  1 -1 -1  1  1  1 -1]\n"
     ]
    }
   ],
   "source": [
    "import itertools\n",
    "\n",
    "def bruteforce_minimize(couplings):\n",
    "    \"\"\"\n",
    "    Brute-force search over all spin configurations (+1/-1) to minimize energy.\n",
    "\n",
    "    Returns:\n",
    "      best_energy (float), best_configs (list of numpy arrays)\n",
    "    \"\"\"\n",
    "    best_energy = float('inf')\n",
    "    best_configs = []\n",
    "\n",
    "    for config in itertools.product([1, -1], repeat=N-1):\n",
    "        spins_cfg = np.array(config, dtype=int)\n",
    "        spins_cfg = np.insert(spins_cfg, 0, 1)\n",
    "        e = compute_energy(couplings, spins_cfg)\n",
    "        if e < best_energy:\n",
    "            best_energy = e\n",
    "            best_configs = [spins_cfg.copy()]\n",
    "        elif e == best_energy:\n",
    "            best_configs.append(spins_cfg.copy())\n",
    "\n",
    "    return best_energy, best_configs\n",
    "\n",
    "# run brute-force using existing variables `couplings` and `compute_energy`\n",
    "best_energy, best_configs = bruteforce_minimize(couplings)\n",
    "print(\"Best energy:\", best_energy)\n",
    "print(\"Number of optimal configurations:\", len(best_configs))\n",
    "for i, cfg in enumerate(best_configs):\n",
    "    print(f\"Config #{i+1}:\", cfg)"
   ]
  },
  {
   "cell_type": "code",
   "execution_count": 219,
   "id": "1b45546a",
   "metadata": {},
   "outputs": [],
   "source": [
    "possible_configs = list(itertools.product([1, -1], repeat=N-1))\n",
    "\n",
    "# Define the objective function\n",
    "def my_f(x):\n",
    "    \"\"\"\n",
    "    Objective function to minimize.\n",
    "    Converts x to an integer index and returns the negative sequence cost.\n",
    "    \"\"\"\n",
    "    x = int(round(x[0]))  # Ensure x is a single integer index\n",
    "    if 0 <= x < 2**(N-1):  # Check bounds\n",
    "        spins_cfg = np.array(possible_configs[x], dtype=int)\n",
    "        spins_cfg = np.insert(spins_cfg, 0, 1)\n",
    "        return compute_energy(couplings, spins_cfg)\n",
    "    else:\n",
    "        return float('inf')  # Return a large value if out of bounds"
   ]
  },
  {
   "cell_type": "code",
   "execution_count": 224,
   "id": "b2ace229",
   "metadata": {},
   "outputs": [
    {
     "name": "stdout",
     "output_type": "stream",
     "text": [
      "Minimum energy found: -13.03538245047407\n",
      "Spin configuration: [1, -1, 1, -1, -1, 1, -1, -1, 1, 1, 1, -1]\n"
     ]
    }
   ],
   "source": [
    "from scipy.optimize import dual_annealing\n",
    "bounds = [(0, 2**N - 1)]\n",
    "res = dual_annealing(my_f, bounds=bounds, maxiter=500,no_local_search=True)\n",
    "print(\"Minimum energy found:\", res.fun)\n",
    "print(\"Spin configuration:\", [1] + list(possible_configs[int(round(res.x[0]))]))"
   ]
  },
  {
   "cell_type": "markdown",
   "id": "9c04cd34",
   "metadata": {},
   "source": [
    "<h2>Hamiltonian Mapping</2>"
   ]
  },
  {
   "cell_type": "code",
   "execution_count": 235,
   "id": "cb51bb4d",
   "metadata": {},
   "outputs": [],
   "source": [
    "sample_size = 300\n",
    "\n",
    "spectrum = np.zeros(2**(N-1))\n",
    "energy_values = []\n",
    "\n",
    "sample_index = np.random.randint(0,2**(N-1),sample_size)\n",
    "for idx in sample_index:\n",
    "    spins_cfg = np.array(possible_configs[idx], dtype=int)\n",
    "    spins_cfg = np.insert(spins_cfg, 0, 1)\n",
    "    energy = compute_energy(couplings, spins_cfg)\n",
    "    spectrum[idx] = energy\n",
    "    energy_values.append(energy)"
   ]
  },
  {
   "cell_type": "code",
   "execution_count": 236,
   "id": "a8a588b1",
   "metadata": {},
   "outputs": [
    {
     "name": "stdout",
     "output_type": "stream",
     "text": [
      "Threshold energy (20th percentile): -3.7319056822172825\n"
     ]
    }
   ],
   "source": [
    "thresh = np.percentile(energy_values, 20)\n",
    "print(\"Threshold energy (20th percentile):\", thresh)\n",
    "spectrum_filtered = [e if e <= thresh else 0 for e in spectrum]"
   ]
  },
  {
   "cell_type": "code",
   "execution_count": 237,
   "id": "f27a6248",
   "metadata": {},
   "outputs": [
    {
     "data": {
      "image/png": "[encoded data removed]",
      "text/plain": [
       "<Figure size 640x480 with 1 Axes>"
      ]
     },
     "metadata": {},
     "output_type": "display_data"
    },
    {
     "data": {
      "image/png": "[encoded data removed]",
      "text/plain": [
       "<Figure size 640x480 with 1 Axes>"
      ]
     },
     "metadata": {},
     "output_type": "display_data"
    }
   ],
   "source": [
    "plt.bar(range(len(spectrum)),spectrum)\n",
    "plt.show()\n",
    "\n",
    "plt.bar(range(len(spectrum)),spectrum_filtered)\n",
    "plt.show()"
   ]
  },
  {
   "cell_type": "code",
   "execution_count": null,
   "id": "4df2e9b5",
   "metadata": {},
   "outputs": [],
   "source": []
  }
 ],
 "metadata": {
  "kernelspec": {
   "display_name": ".venv",
   "language": "python",
   "name": "python3"
  },
  "language_info": {
   "codemirror_mode": {
    "name": "ipython",
    "version": 3
   },
   "file_extension": ".py",
   "mimetype": "text/x-python",
   "name": "python",
   "nbconvert_exporter": "python",
   "pygments_lexer": "ipython3",
   "version": "3.11.9"
  }
 },
 "nbformat": 4,
 "nbformat_minor": 5
}
